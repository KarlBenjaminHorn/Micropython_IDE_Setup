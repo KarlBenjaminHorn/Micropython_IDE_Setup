{
 "cells": [
  {
   "cell_type": "markdown",
   "metadata": {},
   "source": [
    "# Hello World Tutorial\n",
    "Runs with the Pyboard. It's not my project i just write this smal tutorial to make it easier accessible.  \n",
    "Original from https://github.com/v923z/micropython/blob/master/notebook/backbone.ipynb\n",
    "Thanks v923z\n",
    "\n",
    "## Install Jupyter Notebook on your system\n",
    "If you want you can install it remote for example on a Rasperry as I did. \n",
    "## Add the pyboard.py to your python libaries\n",
    "[Download](https://github.com/KarlBenjaminHorn/Micropython_IDE_Setup/blob/master/pyboard.py) the pyboard.py from my github.\n",
    "If you dont know where your python save your libaries you can execute this lines of code in your Jupiter Notebook"
   ]
  },
  {
   "cell_type": "code",
   "execution_count": 13,
   "metadata": {},
   "outputs": [
    {
     "name": "stdout",
     "output_type": "stream",
     "text": [
      "\n",
      "/home/pi\n",
      "/usr/lib/python37.zip\n",
      "/usr/lib/python3.7\n",
      "/usr/lib/python3.7/lib-dynload\n",
      "/home/pi/.local/lib/python3.7/site-packages\n",
      "/usr/local/lib/python3.7/dist-packages\n",
      "/usr/lib/python3/dist-packages\n",
      "/usr/lib/python3/dist-packages/IPython/extensions\n",
      "/home/pi/.ipython\n"
     ]
    }
   ],
   "source": [
    "import sys\n",
    "type(sys.path)\n",
    "\n",
    "for path in sys.path:\n",
    "    print(path)\n"
   ]
  },
  {
   "cell_type": "markdown",
   "metadata": {},
   "source": [
    "In my case i copied it in the home directory. \n",
    "\"/home/pi\"\n",
    "## Execute the Hello World Code\n",
    "first you have to import the libaries for the pyboard and the magic cells"
   ]
  },
  {
   "cell_type": "code",
   "execution_count": 19,
   "metadata": {},
   "outputs": [],
   "source": [
    "from IPython.core.magic import register_cell_magic\n",
    "\n",
    "import pyboard"
   ]
  },
  {
   "cell_type": "markdown",
   "metadata": {},
   "source": [
    "Now you can try to connect. In my case the serial port is called ttyACM0, after reset sometimes ttyACM1 or ttyACM2\n",
    "for other bord it has other names like ttyUSB0 in my SHA Badge or the Lopy"
   ]
  },
  {
   "cell_type": "code",
   "execution_count": 23,
   "metadata": {},
   "outputs": [],
   "source": [
    "pyb = pyboard.Pyboard('/dev/ttyACM0')\n",
    "pyb.enter_raw_repl()"
   ]
  },
  {
   "cell_type": "markdown",
   "metadata": {},
   "source": [
    "You have to register a magic cell to make the pyboard code remote executable"
   ]
  },
  {
   "cell_type": "code",
   "execution_count": 24,
   "metadata": {},
   "outputs": [],
   "source": [
    "@register_cell_magic\n",
    "def pyboard(line, cell):\n",
    "    if len(line) != 0: \n",
    "        try:\n",
    "            with open(line, 'w') as fout:\n",
    "                fout.write(cell)\n",
    "        except:\n",
    "            print('Failed to write to disc!')\n",
    "        return\n",
    "    else:\n",
    "        return pyb.exec(cell)\n",
    "\n"
   ]
  },
  {
   "cell_type": "markdown",
   "metadata": {},
   "source": [
    "now you can create magic cells with pyboard code\n",
    "you have to mark them with %%pyboard \n",
    "in the beginning."
   ]
  },
  {
   "cell_type": "code",
   "execution_count": 28,
   "metadata": {},
   "outputs": [
    {
     "data": {
      "text/plain": [
       "b''"
      ]
     },
     "execution_count": 28,
     "metadata": {},
     "output_type": "execute_result"
    }
   ],
   "source": [
    "%%pyboard\n",
    "\n",
    "import utime\n",
    "import pyb\n",
    "\n",
    "def blink_led(n, ms):\n",
    "    for i in range(n):\n",
    "        pyb.LED(2).toggle()\n",
    "        utime.sleep_ms(ms)\n",
    "    \n",
    "blink_led(10, 400)\n",
    "\n"
   ]
  },
  {
   "cell_type": "markdown",
   "metadata": {},
   "source": [
    "After executing the last cell the LED on your Pyboard should blink 5 times"
   ]
  },
  {
   "cell_type": "code",
   "execution_count": null,
   "metadata": {},
   "outputs": [],
   "source": []
  }
 ],
 "metadata": {
  "kernelspec": {
   "display_name": "Python 3",
   "language": "python",
   "name": "python3"
  },
  "language_info": {
   "codemirror_mode": {
    "name": "ipython",
    "version": 3
   },
   "file_extension": ".py",
   "mimetype": "text/x-python",
   "name": "python",
   "nbconvert_exporter": "python",
   "pygments_lexer": "ipython3",
   "version": "3.7.3"
  }
 },
 "nbformat": 4,
 "nbformat_minor": 2
}
